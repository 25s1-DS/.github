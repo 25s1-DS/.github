{
    "cells": [
        {
            "cell_type": "markdown",
            "metadata": {},
            "source": [
                "# Exerc\u00edcios de Estat\u00edstica B\u00e1sica\n",
                "## Introdu\u00e7\u00e3o aos conceitos estat\u00edsticos com Python\n",
                "**Conte\u00fado abordado:**\n",
                "- Medidas de tend\u00eancia central\n",
                "- Vari\u00e2ncia e desvio padr\u00e3o\n",
                "- Distribui\u00e7\u00e3o Normal\n",
                "- Correla\u00e7\u00e3o\n",
                "- Outras distribui\u00e7\u00f5es (Binomial e Poisson)"
            ]
        },
        {
            "cell_type": "code",
            "metadata": {},
            "execution_count": null,
            "outputs": [],
            "source": [
                "# Importa\u00e7\u00e3o das bibliotecas\n",
                "import numpy as np\n",
                "import matplotlib.pyplot as plt\n",
                "from scipy import stats\n",
                "import pandas as pd\n",
                "%matplotlib inline"
            ]
        },
        {
            "cell_type": "markdown",
            "metadata": {},
            "source": [
                "## Parte 1: Estat\u00edstica B\u00e1sica"
            ]
        },
        {
            "cell_type": "markdown",
            "metadata": {},
            "source": [
                "### Exerc\u00edcio 1: Medidas de Tend\u00eancia Central\n",
                "Dado o conjunto de dados abaixo, calcule:\n",
                "- M\u00e9dia\n",
                "- Mediana\n",
                "- Moda\n",
                "Dados: `[12, 15, 18, 22, 17, 15, 19, 20, 16, 18]`"
            ]
        },
        {
            "cell_type": "code",
            "metadata": {},
            "execution_count": null,
            "outputs": [],
            "source": [
                "# Seu c\u00f3digo aqui\n",
                "dados = [12, 15, 18, 22, 17, 15, 19, 20, 16, 18]"
            ]
        },
        {
            "cell_type": "markdown",
            "metadata": {},
            "source": [
                "### Exerc\u00edcio 2: Vari\u00e2ncia e Desvio Padr\u00e3o\n",
                "Para o mesmo conjunto de dados do exerc\u00edcio anterior:\n",
                "1. Calcule a vari\u00e2ncia\n",
                "2. Calcule o desvio padr\u00e3o\n",
                "3. Interprete os resultados"
            ]
        },
        {
            "cell_type": "code",
            "metadata": {},
            "execution_count": null,
            "outputs": [],
            "source": [
                "# Seu c\u00f3digo aqui"
            ]
        },
        {
            "cell_type": "markdown",
            "metadata": {},
            "source": [
                "## Parte 2: Distribui\u00e7\u00e3o Normal"
            ]
        },
        {
            "cell_type": "markdown",
            "metadata": {},
            "source": [
                "### Exerc\u00edcio 3: Simula\u00e7\u00e3o de Distribui\u00e7\u00e3o Normal\n",
                "1. Gere 1000 valores de uma distribui\u00e7\u00e3o normal com m\u00e9dia 50 e desvio padr\u00e3o 5\n",
                "2. Plote um histograma\n",
                "3. Calcule a probabilidade de um valor ser maior que 60\n",
                "4. Calcule o intervalo que cont\u00e9m 95% dos dados"
            ]
        },
        {
            "cell_type": "code",
            "metadata": {},
            "execution_count": null,
            "outputs": [],
            "source": [
                "# Seu c\u00f3digo aqui"
            ]
        },
        {
            "cell_type": "markdown",
            "metadata": {},
            "source": [
                "## Parte 3: Correla\u00e7\u00e3o"
            ]
        },
        {
            "cell_type": "markdown",
            "metadata": {},
            "source": [
                "### Exerc\u00edcio 4: An\u00e1lise de Correla\u00e7\u00e3o\n",
                "Dados dois conjuntos:\n",
                "- X = [1, 2, 3, 4, 5, 6, 7, 8, 9, 10]\n",
                "- Y = [2, 3, 5, 4, 6, 8, 7, 10, 9, 11]\n",
                "1. Calcule a covari\u00e2ncia\n",
                "2. Calcule o coeficiente de correla\u00e7\u00e3o de Pearson\n",
                "3. Crie um gr\u00e1fico de dispers\u00e3o\n",
                "4. Interprete os resultados"
            ]
        },
        {
            "cell_type": "code",
            "metadata": {},
            "execution_count": null,
            "outputs": [],
            "source": [
                "# Seu c\u00f3digo aqui"
            ]
        },
        {
            "cell_type": "markdown",
            "metadata": {},
            "source": [
                "## Parte 4: Outras Distribui\u00e7\u00f5es"
            ]
        },
        {
            "cell_type": "markdown",
            "metadata": {},
            "source": [
                "### Exerc\u00edcio 5: Distribui\u00e7\u00e3o Binomial\n",
                "Um dado justo \u00e9 lan\u00e7ado 10 vezes.\n",
                "1. Qual a probabilidade de obter exatamente 3 seis?\n",
                "2. Qual a probabilidade de obter pelo menos 2 seis?\n",
                "3. Gere uma amostra de 100 lan\u00e7amentos"
            ]
        },
        {
            "cell_type": "code",
            "metadata": {},
            "execution_count": null,
            "outputs": [],
            "source": [
                "# Seu c\u00f3digo aqui"
            ]
        },
        {
            "cell_type": "markdown",
            "metadata": {},
            "source": [
                "### Exerc\u00edcio 6: Distribui\u00e7\u00e3o de Poisson\n",
                "Suponha que o n\u00famero m\u00e9dio de chamadas recebidas por hora \u00e9 5.\n",
                "1. Qual a probabilidade de receber exatamente 3 chamadas em uma hora?\n",
                "2. Qual a probabilidade de receber mais de 8 chamadas em uma hora?\n",
                "3. Gere uma amostra de 50 horas"
            ]
        },
        {
            "cell_type": "code",
            "metadata": {},
            "execution_count": null,
            "outputs": [],
            "source": [
                "# Seu c\u00f3digo aqui"
            ]
        },
        {
            "cell_type": "markdown",
            "metadata": {},
            "source": [
                "## Parte Opcional: Desafios"
            ]
        },
        {
            "cell_type": "markdown",
            "metadata": {},
            "source": [
                "### Desafio 1: An\u00e1lise de Dados\n",
                "Crie um DataFrame com:\n",
                "- Idades de 20 a 60 anos\n",
                "- Sal\u00e1rios com m\u00e9dia 3000 e desvio padr\u00e3o 500\n",
                "- Anos de experi\u00eancia de 0 a 40\n",
                "Analise:\n",
                "1. Correla\u00e7\u00e3o entre idade e sal\u00e1rio\n",
                "2. Distribui\u00e7\u00e3o dos anos de experi\u00eancia\n",
                "3. Sal\u00e1rio m\u00e9dio por faixa et\u00e1ria"
            ]
        },
        {
            "cell_type": "code",
            "metadata": {},
            "execution_count": null,
            "outputs": [],
            "source": [
                "# Seu c\u00f3digo aqui"
            ]
        }
    ],
    "metadata": {
        "kernelspec": {
            "display_name": "Python 3",
            "language": "python",
            "name": "python3"
        },
        "language_info": {
            "codemirror_mode": {
                "name": "ipython",
                "version": 3
            },
            "file_extension": ".py",
            "mimetype": "text/x-python",
            "name": "python",
            "nbconvert_exporter": "python",
            "pygments_lexer": "ipython3",
            "version": "3.8.10"
        }
    },
    "nbformat": 4,
    "nbformat_minor": 4
}