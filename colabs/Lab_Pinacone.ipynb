{
  "cells": [
    {
      "cell_type": "markdown",
      "source": [
        "# Vector Database"
      ],
      "metadata": {
        "id": "EHTLXkKOD3bj"
      },
      "id": "EHTLXkKOD3bj"
    },
    {
      "cell_type": "markdown",
      "source": [
        "\n",
        "\n",
        "Um Vector Database (ou banco de dados vetorial) é um tipo de banco de dados especializado no armazenamento, indexação e busca eficiente de vetores de alta dimensão — representações numéricas densas, geralmente extraídas de dados como textos, imagens, vídeos ou áudio.\n",
        "\n",
        "Esses vetores são a base de aplicações de IA modernas, como:\n",
        "\n",
        "- Busca semântica (semantic search)\n",
        "\n",
        "- Recuperação aumentada por geração (RAG)\n",
        "\n",
        "- Recomendação de conteúdo\n",
        "\n",
        "- Detecção de similaridade\n",
        "\n",
        "## Por que vetores?\n",
        "Modelos de machine learning (como BERT, CLIP, OpenAI embeddings etc.) convertem entradas complexas (como textos) em vetores numéricos. Cada vetor representa o \"significado\" daquele dado em um espaço matemático. Com isso, é possível medir semelhança semântica usando métricas como:\n",
        "\n",
        "- Distância Euclidiana\n",
        "\n",
        "- Cosseno\n",
        "\n",
        "- Inner product\n",
        "\n",
        "## Pinecone – O que é?\n",
        "\n",
        "Pinecone é uma Vector Database as a Service, gerenciada, escalável e de alta performance. Ela permite que você:\n",
        "\n",
        "- Armazene bilhões de vetores\n",
        "\n",
        "- Faça buscas vetoriais rápidas\n",
        "\n",
        "- Integre facilmente com LLMs (ex: OpenAI, Cohere)\n",
        "\n",
        "- Use com frameworks como LangChain, LlamaIndex, Haystack\n",
        "\n",
        "## Como funciona a arquitetura básica?\n",
        "\n",
        "- Criação de vetores: Um modelo de IA transforma dados (como textos) em vetores.\n",
        "\n",
        "- Indexação: Esses vetores são armazenados em Pinecone.\n",
        "\n",
        "- Consulta: Você envia um vetor de consulta, e Pinecone retorna os vetores mais semelhantes.\n",
        "\n",
        "- Integração com contexto: Em sistemas RAG, os resultados recuperados podem ser usados como contexto para LLMs.\n",
        "\n",
        "\n"
      ],
      "metadata": {
        "id": "sTaqRFjNDswf"
      },
      "id": "sTaqRFjNDswf"
    },
    {
      "cell_type": "markdown",
      "id": "5ece3236",
      "metadata": {
        "id": "5ece3236"
      },
      "source": [
        "# 🔍 RAG com Pinecone + MongoDB + OpenAI\n",
        "\n",
        "Este notebook demonstra como construir um sistema de **Pergunta e Resposta com Busca Semântica** (RAG - Retrieval-Augmented Generation), integrando:\n",
        "- Vetores semânticos com OpenAI\n",
        "- Armazenamento vetorial com Pinecone\n",
        "- Persistência dos documentos em MongoDB\n",
        "- Geração de resposta com contexto usando ChatGPT (GPT-3.5-turbo)\n",
        "\n",
        "Ideal para casos de uso como:\n",
        "- FAQ inteligentes\n",
        "- Chatbots com memória contextual\n",
        "- Sistemas de suporte baseados em conhecimento"
      ]
    },
    {
      "cell_type": "markdown",
      "source": [
        "Para obter suas chaves de API do **Pinecone** e **OpenAI**, siga os passos abaixo:\n",
        "\n",
        "---\n",
        "\n",
        "### **1. Como obter a API Key do Pinecone**\n",
        "\n",
        "1. Acesse: [https://www.pinecone.io](https://www.pinecone.io)\n",
        "2. Clique em **“Start for free”** e crie uma conta (ou faça login).\n",
        "3. No Dashboard:\n",
        "\n",
        "   * Vá para **API Keys** (menu lateral esquerdo).\n",
        "   * Copie a **API Key** (ex: `a1b2c3d4...`) e o **Environment** (ex: `gcp-starter`, `us-west1-gcp`).\n",
        "\n",
        "##--> Guarde essas informações, você usará assim:\n",
        "\n",
        "```python\n",
        "pinecone_api_key = \"SUA_PINECONE_API_KEY\"\n",
        "pinecone_env = \"us-west1-gcp\"\n",
        "```\n",
        "\n",
        "---\n",
        "\n",
        "### **2. Como obter a OpenAI API Key**\n",
        "\n",
        "1. Acesse: [https://platform.openai.com/account/api-keys](https://platform.openai.com/account/api-keys)\n",
        "2. Faça login com sua conta da OpenAI.\n",
        "3. Clique em **“Create new secret key”**.\n",
        "4. Copie e salve a chave (você só verá uma vez!).\n",
        "\n",
        "Exemplo:\n",
        "\n",
        "```python\n",
        "openai_api_key = \"sk-...\"\n",
        "```\n",
        "\n",
        "---\n",
        "\n",
        "### 💡 Dica de segurança:\n",
        "\n",
        "* Nunca compartilhe suas chaves publicamente.\n",
        "* Use variáveis de ambiente (como `os.getenv`) ou arquivos `.env` para maior segurança em produção.\n",
        "\n",
        "Se quiser, posso mostrar como armazenar essas chaves com segurança em um projeto Colab ou Python local. Deseja isso também?\n"
      ],
      "metadata": {
        "id": "8sw32BTcEczT"
      },
      "id": "8sw32BTcEczT"
    },
    {
      "cell_type": "code",
      "execution_count": null,
      "id": "e48459f6",
      "metadata": {
        "id": "e48459f6"
      },
      "outputs": [],
      "source": [
        "# Instalar dependências\n",
        "!pip install openai pinecone-client pymongo --quiet"
      ]
    },
    {
      "cell_type": "code",
      "execution_count": null,
      "id": "c807df7a",
      "metadata": {
        "id": "c807df7a"
      },
      "outputs": [],
      "source": [
        "# Configurações (edite com suas chaves)\n",
        "openai_api_key = \"SUA_OPENAI_API_KEY\"\n",
        "pinecone_api_key = \"SUA_PINECONE_API_KEY\"\n",
        "pinecone_env = \"us-west1-gcp\"\n",
        "pinecone_index_name = \"rag-index\"\n",
        "\n",
        "mongodb_uri = \"mongodb://localhost:27017\"\n",
        "db_name = \"ragdb\"\n",
        "collection_name = \"faq\""
      ]
    },
    {
      "cell_type": "code",
      "execution_count": null,
      "id": "833ab690",
      "metadata": {
        "id": "833ab690"
      },
      "outputs": [],
      "source": [
        "# Inicializações\n",
        "import openai\n",
        "import pinecone\n",
        "from pymongo import MongoClient\n",
        "import uuid\n",
        "\n",
        "openai.api_key = openai_api_key\n",
        "pinecone.init(api_key=pinecone_api_key, environment=pinecone_env)\n",
        "\n",
        "# Pinecone\n",
        "if pinecone_index_name not in pinecone.list_indexes():\n",
        "    pinecone.create_index(pinecone_index_name, dimension=1536)\n",
        "index = pinecone.Index(pinecone_index_name)\n",
        "\n",
        "# MongoDB\n",
        "mongo = MongoClient(mongodb_uri)\n",
        "collection = mongo[db_name][collection_name]\n",
        "\n",
        "def gerar_embedding(texto):\n",
        "    response = openai.Embedding.create(input=[texto], model=\"text-embedding-ada-002\")\n",
        "    return response[\"data\"][0][\"embedding\"]"
      ]
    },
    {
      "cell_type": "code",
      "execution_count": null,
      "id": "5df8fed7",
      "metadata": {
        "id": "5df8fed7"
      },
      "outputs": [],
      "source": [
        "# Inserir base de conhecimento\n",
        "faq_data = [\n",
        "    {\"pergunta\": \"Como redefinir minha senha?\", \"resposta\": \"Acesse configurações e clique em 'Redefinir Senha'.\"},\n",
        "    {\"pergunta\": \"Qual é o horário de atendimento?\", \"resposta\": \"Das 8h às 18h, de segunda a sexta.\"},\n",
        "    {\"pergunta\": \"Onde posso baixar minha fatura?\", \"resposta\": \"Na área do cliente, seção 'Faturas'.\"}\n",
        "]\n",
        "\n",
        "for item in faq_data:\n",
        "    item_id = str(uuid.uuid4())\n",
        "    vetor = gerar_embedding(item[\"pergunta\"])\n",
        "    item[\"_id\"] = item_id\n",
        "    collection.insert_one(item)\n",
        "    index.upsert([(item_id, vetor)])"
      ]
    },
    {
      "cell_type": "code",
      "execution_count": null,
      "id": "5529e4e3",
      "metadata": {
        "id": "5529e4e3"
      },
      "outputs": [],
      "source": [
        "# Função de busca com recuperação semântica\n",
        "def buscar_contexto(pergunta, top_k=1):\n",
        "    embedding = gerar_embedding(pergunta)\n",
        "    results = index.query(vector=embedding, top_k=top_k)\n",
        "    contextos = []\n",
        "    for match in results[\"matches\"]:\n",
        "        doc = collection.find_one({\"_id\": match[\"id\"]})\n",
        "        if doc:\n",
        "            contextos.append(doc[\"resposta\"])\n",
        "    return \"\\n\".join(contextos)"
      ]
    },
    {
      "cell_type": "code",
      "execution_count": null,
      "id": "5c0e2e3f",
      "metadata": {
        "id": "5c0e2e3f"
      },
      "outputs": [],
      "source": [
        "# Função de resposta com contexto RAG\n",
        "def responder(pergunta):\n",
        "    contexto = buscar_contexto(pergunta)\n",
        "    prompt = f\"\"\"\n",
        "Contexto:\n",
        "{contexto}\n",
        "\n",
        "Pergunta:\n",
        "{pergunta}\n",
        "\n",
        "Responda com base apenas no contexto acima.\n",
        "\"\"\"\n",
        "    resposta = openai.ChatCompletion.create(\n",
        "        model=\"gpt-3.5-turbo\",\n",
        "        messages=[{\"role\": \"user\", \"content\": prompt}],\n",
        "        temperature=0.3\n",
        "    )\n",
        "    return resposta[\"choices\"][0][\"message\"][\"content\"]"
      ]
    },
    {
      "cell_type": "code",
      "execution_count": null,
      "id": "79a95133",
      "metadata": {
        "id": "79a95133"
      },
      "outputs": [],
      "source": [
        "# Teste interativo\n",
        "while True:\n",
        "    pergunta = input(\"Você: \")\n",
        "    if pergunta.lower() in [\"sair\", \"exit\", \"quit\"]:\n",
        "        break\n",
        "    resposta = responder(pergunta)\n",
        "    print(\"Bot:\", resposta)"
      ]
    },
    {
      "cell_type": "markdown",
      "source": [
        "---\n",
        "\n",
        "## 🚀 Como utilizar o notebook RAG com Pinecone + MongoDB + OpenAI\n",
        "\n",
        "### 🔧 Pré-requisitos\n",
        "\n",
        "Antes de rodar o notebook, você precisa:\n",
        "\n",
        "1. **Criar contas e obter chaves:**\n",
        "\n",
        "   * [OpenAI](https://platform.openai.com/account/api-keys): gere sua `openai_api_key`\n",
        "   * [Pinecone](https://app.pinecone.io): gere sua `pinecone_api_key` e anote o `environment` (ex: `us-west1-gcp`)\n",
        "\n",
        "2. **Instalar o MongoDB:**\n",
        "\n",
        "   * Localmente ou via [MongoDB Atlas](https://www.mongodb.com/cloud/atlas)\n",
        "\n",
        "---\n",
        "\n",
        "### 📌 Etapas no notebook\n",
        "\n",
        "#### ✅ 1. Instalar dependências\n",
        "\n",
        "Executa `pip install` para instalar:\n",
        "\n",
        "* `openai`\n",
        "* `pinecone-client`\n",
        "* `pymongo`\n",
        "\n",
        "#### ✅ 2. Definir variáveis de configuração\n",
        "\n",
        "Você deve substituir:\n",
        "\n",
        "```python\n",
        "openai_api_key = \"SUA_OPENAI_API_KEY\"\n",
        "pinecone_api_key = \"SUA_PINECONE_API_KEY\"\n",
        "pinecone_env = \"SUA_PINECONE_ENV\"\n",
        "mongodb_uri = \"mongodb://localhost:27017\"\n",
        "```\n",
        "\n",
        "#### ✅ 3. Inicializações\n",
        "\n",
        "* Conecta à API do OpenAI\n",
        "* Conecta ao Pinecone (cria índice se não existir)\n",
        "* Conecta ao MongoDB (banco + coleção para persistência textual)\n",
        "\n",
        "#### ✅ 4. Inserir documentos de base\n",
        "\n",
        "Você pode inserir perguntas e respostas como esta:\n",
        "\n",
        "```python\n",
        "{ \"pergunta\": \"Como redefinir minha senha?\", \"resposta\": \"Acesse configurações e clique em 'Redefinir Senha'.\" }\n",
        "```\n",
        "\n",
        "Cada pergunta é transformada em um vetor semântico via `text-embedding-ada-002` e enviada ao Pinecone + MongoDB.\n",
        "\n",
        "#### ✅ 5. Buscar contexto\n",
        "\n",
        "A função `buscar_contexto(pergunta)` realiza:\n",
        "\n",
        "* Conversão da pergunta em vetor\n",
        "* Consulta semântica no Pinecone\n",
        "* Recuperação do texto correspondente no MongoDB\n",
        "\n",
        "#### ✅ 6. Gerar resposta com GPT\n",
        "\n",
        "A função `responder(pergunta)` monta um prompt com:\n",
        "\n",
        "* Contexto recuperado\n",
        "* Pergunta original\n",
        "\n",
        "E envia ao modelo `gpt-3.5-turbo` da OpenAI.\n",
        "\n",
        "#### ✅ 7. Interação final\n",
        "\n",
        "Um loop `input()` permite que você converse com o sistema e ele responda com base no conhecimento armazenado.\n",
        "\n",
        "---\n",
        "\n",
        "### 📦 Dica: Atualizar a base de conhecimento\n",
        "\n",
        "Você pode adicionar dinamicamente novos documentos no MongoDB e no Pinecone executando novamente a célula de inserção.\n",
        "\n",
        "---\n",
        "\n",
        "### 🔐 Segurança\n",
        "\n",
        "* Nunca exponha suas chaves diretamente em código público.\n",
        "* Para projetos reais, use variáveis de ambiente (`os.getenv`) ou arquivos `.env`.\n",
        "\n",
        "---\n"
      ],
      "metadata": {
        "id": "wHpg6dumo7Ux"
      },
      "id": "wHpg6dumo7Ux"
    },
    {
      "cell_type": "code",
      "source": [],
      "metadata": {
        "id": "YGH5Us4vo4Iu"
      },
      "id": "YGH5Us4vo4Iu",
      "execution_count": null,
      "outputs": []
    }
  ],
  "metadata": {
    "colab": {
      "provenance": []
    },
    "language_info": {
      "name": "python"
    },
    "kernelspec": {
      "name": "python3",
      "display_name": "Python 3"
    }
  },
  "nbformat": 4,
  "nbformat_minor": 5
}