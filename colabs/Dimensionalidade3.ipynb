{
  "nbformat": 4,
  "nbformat_minor": 0,
  "metadata": {
    "colab": {
      "provenance": []
    },
    "kernelspec": {
      "name": "python3",
      "display_name": "Python 3"
    },
    "language_info": {
      "name": "python"
    }
  },
  "cells": [
    {
      "cell_type": "code",
      "execution_count": 1,
      "metadata": {
        "colab": {
          "base_uri": "https://localhost:8080/"
        },
        "id": "mNYy69E76zyA",
        "outputId": "e1feb90b-9c23-4422-b975-d2cbfbf00371"
      },
      "outputs": [
        {
          "output_type": "stream",
          "name": "stderr",
          "text": [
            "<ipython-input-1-1b09f54fc5c5>:16: FutureWarning: A value is trying to be set on a copy of a DataFrame or Series through chained assignment using an inplace method.\n",
            "The behavior will change in pandas 3.0. This inplace method will never work because the intermediate object on which we are setting values always behaves as a copy.\n",
            "\n",
            "For example, when doing 'df[col].method(value, inplace=True)', try using 'df.method({col: value}, inplace=True)' or df[col] = df[col].method(value) instead, to perform the operation inplace on the original object.\n",
            "\n",
            "\n",
            "  df['TotalCharges'].fillna(df['TotalCharges'].median(), inplace=True)\n"
          ]
        }
      ],
      "source": [
        "import pandas as pd\n",
        "import numpy as np\n",
        "from sklearn.model_selection import train_test_split\n",
        "from sklearn.preprocessing import LabelEncoder, StandardScaler\n",
        "\n",
        "# Carregar o dataset\n",
        "df = pd.read_csv('WA_Fn-UseC_-Telco-Customer-Churn.csv')\n",
        "\n",
        "# Remover colunas irrelevantes\n",
        "df.drop(['customerID'], axis=1, inplace=True)\n",
        "\n",
        "# Converter 'TotalCharges' para numérico, tratando erros\n",
        "df['TotalCharges'] = pd.to_numeric(df['TotalCharges'], errors='coerce')\n",
        "\n",
        "# Preencher valores ausentes com a mediana\n",
        "df['TotalCharges'].fillna(df['TotalCharges'].median(), inplace=True)\n",
        "\n",
        "# Codificar variáveis categóricas\n",
        "for column in df.select_dtypes(include=['object']).columns:\n",
        "    if df[column].nunique() == 2:\n",
        "        # Codificação binária\n",
        "        df[column] = LabelEncoder().fit_transform(df[column])\n",
        "    else:\n",
        "        # Codificação one-hot\n",
        "        df = pd.get_dummies(df, columns=[column])\n",
        "\n",
        "# Separar features e target\n",
        "X = df.drop('Churn', axis=1)\n",
        "y = df['Churn']\n",
        "\n",
        "# Dividir em conjuntos de treino e teste\n",
        "X_train, X_test, y_train, y_test = train_test_split(X, y, test_size=0.3, random_state=42)\n"
      ]
    },
    {
      "cell_type": "code",
      "source": [
        "from sklearn.ensemble import RandomForestClassifier\n",
        "from sklearn.metrics import accuracy_score\n",
        "\n",
        "# Treinar o modelo\n",
        "model_full = RandomForestClassifier(random_state=42)\n",
        "model_full.fit(X_train, y_train)\n",
        "\n",
        "# Avaliar o modelo\n",
        "y_pred_full = model_full.predict(X_test)\n",
        "acc_full = accuracy_score(y_test, y_pred_full)\n",
        "print(f\"Acurácia com todas as features: {acc_full:.4f}\")\n"
      ],
      "metadata": {
        "colab": {
          "base_uri": "https://localhost:8080/"
        },
        "id": "rixmYur_7Mp6",
        "outputId": "e111383a-a856-4cc3-ede0-1b78934dac43"
      },
      "execution_count": 2,
      "outputs": [
        {
          "output_type": "stream",
          "name": "stdout",
          "text": [
            "Acurácia com todas as features: 0.7894\n"
          ]
        }
      ]
    },
    {
      "cell_type": "code",
      "source": [
        "from sklearn.decomposition import PCA\n",
        "\n",
        "# Padronizar os dados\n",
        "scaler = StandardScaler()\n",
        "X_train_scaled = scaler.fit_transform(X_train)\n",
        "X_test_scaled = scaler.transform(X_test)\n",
        "\n",
        "# Aplicar PCA\n",
        "pca = PCA(n_components=0.95)\n",
        "X_train_pca = pca.fit_transform(X_train_scaled)\n",
        "X_test_pca = pca.transform(X_test_scaled)\n",
        "\n",
        "# Treinar o modelo com dados reduzidos\n",
        "model_pca = RandomForestClassifier(random_state=42)\n",
        "model_pca.fit(X_train_pca, y_train)\n",
        "\n",
        "# Avaliar o modelo\n",
        "y_pred_pca = model_pca.predict(X_test_pca)\n",
        "acc_pca = accuracy_score(y_test, y_pred_pca)\n",
        "print(f\"Acurácia com PCA: {acc_pca:.4f}\")\n"
      ],
      "metadata": {
        "colab": {
          "base_uri": "https://localhost:8080/"
        },
        "id": "YGvp6xgb7PfM",
        "outputId": "26cb2cb2-4ca2-46f0-b5b0-fb44a6645439"
      },
      "execution_count": 3,
      "outputs": [
        {
          "output_type": "stream",
          "name": "stdout",
          "text": [
            "Acurácia com PCA: 0.7719\n"
          ]
        }
      ]
    },
    {
      "cell_type": "code",
      "source": [
        "from sklearn.feature_selection import SelectKBest, f_classif\n",
        "\n",
        "# Aplicar SelectKBest\n",
        "selector = SelectKBest(score_func=f_classif, k=10)\n",
        "X_train_kbest = selector.fit_transform(X_train, y_train)\n",
        "X_test_kbest = selector.transform(X_test)\n",
        "\n",
        "# Treinar o modelo com features selecionadas\n",
        "model_kbest = RandomForestClassifier(random_state=42)\n",
        "model_kbest.fit(X_train_kbest, y_train)\n",
        "\n",
        "# Avaliar o modelo\n",
        "y_pred_kbest = model_kbest.predict(X_test_kbest)\n",
        "acc_kbest = accuracy_score(y_test, y_pred_kbest)\n",
        "print(f\"Acurácia com SelectKBest: {acc_kbest:.4f}\")\n"
      ],
      "metadata": {
        "colab": {
          "base_uri": "https://localhost:8080/"
        },
        "id": "CRnqF5Wg7NTC",
        "outputId": "6756ce2a-b7e6-47ae-960a-ebb24a17d97d"
      },
      "execution_count": 4,
      "outputs": [
        {
          "output_type": "stream",
          "name": "stdout",
          "text": [
            "Acurácia com SelectKBest: 0.7619\n"
          ]
        }
      ]
    },
    {
      "cell_type": "code",
      "source": [
        "import matplotlib.pyplot as plt\n",
        "\n",
        "# Dados para o gráfico\n",
        "labels = ['Todas as Features', 'PCA', 'SelectKBest']\n",
        "accuracies = [acc_full, acc_pca, acc_kbest]\n",
        "\n",
        "# Criar o gráfico de barras\n",
        "plt.figure(figsize=(8, 5))\n",
        "bars = plt.bar(labels, accuracies, color=['blue', 'orange', 'green'])\n",
        "plt.title('Comparação de Acurácia dos Modelos')\n",
        "plt.ylabel('Acurácia')\n",
        "plt.ylim(0.5, 1.0)\n",
        "\n",
        "# Adicionar valores nas barras\n",
        "for bar in bars:\n",
        "    yval = bar.get_height()\n",
        "    plt.text(bar.get_x() + bar.get_width()/2, yval + 0.01, f'{yval:.3f}', ha='center', va='bottom')\n",
        "\n",
        "plt.grid(axis='y')\n",
        "plt.show()\n"
      ],
      "metadata": {
        "colab": {
          "base_uri": "https://localhost:8080/",
          "height": 468
        },
        "id": "I2rleKRK7Vcd",
        "outputId": "8f94d213-521e-423e-c06f-66be6a43895e"
      },
      "execution_count": 5,
      "outputs": [
        {
          "output_type": "display_data",
          "data": {
            "text/plain": [
              "<Figure size 800x500 with 1 Axes>"
            ],
            "image/png": "[encoded data removed]"
          },
          "metadata": {}
        }
      ]
    },
    {
      "cell_type": "code",
      "source": [],
      "metadata": {
        "id": "hmLNKpGr8J0t"
      },
      "execution_count": null,
      "outputs": []
    }
  ]
}