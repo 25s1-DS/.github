{
  "nbformat": 4,
  "nbformat_minor": 0,
  "metadata": {
    "colab": {
      "provenance": []
    },
    "kernelspec": {
      "name": "python3",
      "display_name": "Python 3"
    },
    "language_info": {
      "name": "python"
    }
  },
  "cells": [
    {
      "cell_type": "code",
      "execution_count": 1,
      "metadata": {
        "id": "3-3aRAj2063v"
      },
      "outputs": [],
      "source": [
        "import numpy as np\n",
        "import pandas as pd\n",
        "from sklearn.datasets import make_classification\n",
        "from sklearn.model_selection import train_test_split\n",
        "from sklearn.ensemble import RandomForestClassifier\n",
        "from sklearn.metrics import accuracy_score\n",
        "from sklearn.decomposition import PCA\n",
        "from sklearn.feature_selection import SelectKBest, f_classif\n",
        "import matplotlib.pyplot as plt\n"
      ]
    },
    {
      "cell_type": "code",
      "source": [
        "# Criando dataset com 20 features, 5 informativas e 5 redundantes\n",
        "X, y = make_classification(n_samples=1000, n_features=20,\n",
        "                           n_informative=5, n_redundant=5,\n",
        "                           random_state=42)\n",
        "\n",
        "X_train, X_test, y_train, y_test = train_test_split(\n",
        "    X, y, test_size=0.3, random_state=42)\n"
      ],
      "metadata": {
        "id": "Y20U41Nf07vd"
      },
      "execution_count": 26,
      "outputs": []
    },
    {
      "cell_type": "code",
      "source": [
        "model_full = RandomForestClassifier(random_state=42)\n",
        "model_full.fit(X_train, y_train)\n",
        "y_pred_full = model_full.predict(X_test)\n",
        "\n",
        "acc_full = accuracy_score(y_test, y_pred_full)\n",
        "print(f\"🔵 Acurácia (30 features): {acc_full:.4f}\")\n"
      ],
      "metadata": {
        "colab": {
          "base_uri": "https://localhost:8080/"
        },
        "id": "N9g7UwU11BmO",
        "outputId": "c349b2ae-7ce1-4ccc-870e-11bb93634df7"
      },
      "execution_count": 27,
      "outputs": [
        {
          "output_type": "stream",
          "name": "stdout",
          "text": [
            "🔵 Acurácia (30 features): 0.9300\n"
          ]
        }
      ]
    },
    {
      "cell_type": "code",
      "source": [
        "# Documentação\n",
        "# https://scikit-learn.org/stable/modules/generated/sklearn.decomposition.PCA.html\n",
        "\n",
        "pca = PCA(n_components=0.95)\n",
        "X_train_pca = pca.fit_transform(X_train)\n",
        "X_test_pca = pca.transform(X_test)\n",
        "\n",
        "print(f\"📉 Número de componentes PCA: {X_train_pca.shape[1]}\")\n",
        "\n",
        "model_pca = RandomForestClassifier(random_state=42)\n",
        "model_pca.fit(X_train_pca, y_train)\n",
        "y_pred_pca = model_pca.predict(X_test_pca)\n",
        "\n",
        "acc_pca = accuracy_score(y_test, y_pred_pca)\n",
        "print(f\"🟠 Acurácia com PCA: {acc_pca:.4f}\")\n"
      ],
      "metadata": {
        "colab": {
          "base_uri": "https://localhost:8080/"
        },
        "id": "iV-ORW4P1DVY",
        "outputId": "59610468-770d-4e95-daed-c810f76d3b52"
      },
      "execution_count": 28,
      "outputs": [
        {
          "output_type": "stream",
          "name": "stdout",
          "text": [
            "📉 Número de componentes PCA: 13\n",
            "🟠 Acurácia com PCA: 0.9133\n"
          ]
        }
      ]
    },
    {
      "cell_type": "code",
      "source": [
        "# Documentação\n",
        "# https://scikit-learn.org/stable/modules/feature_selection.html\n",
        "\n",
        "\n",
        "selector = SelectKBest(score_func=f_classif, k=8)\n",
        "X_train_kbest = selector.fit_transform(X_train, y_train)\n",
        "X_test_kbest = selector.transform(X_test)\n",
        "\n",
        "model_kbest = RandomForestClassifier(random_state=42)\n",
        "model_kbest.fit(X_train_kbest, y_train)\n",
        "y_pred_kbest = model_kbest.predict(X_test_kbest)\n",
        "\n",
        "acc_kbest = accuracy_score(y_test, y_pred_kbest)\n",
        "print(f\"🟢 Acurácia com SelectKBest: {acc_kbest:.4f}\")\n"
      ],
      "metadata": {
        "colab": {
          "base_uri": "https://localhost:8080/"
        },
        "id": "l23gizFZ1FSQ",
        "outputId": "cb459e11-93b1-493b-998c-99e4f8c624db"
      },
      "execution_count": 30,
      "outputs": [
        {
          "output_type": "stream",
          "name": "stdout",
          "text": [
            "🟢 Acurácia com SelectKBest: 0.9333\n"
          ]
        }
      ]
    },
    {
      "cell_type": "code",
      "source": [
        "labels = ['Baseline (20 features)', 'PCA', 'SelectKBest (8 features)']\n",
        "accuracies = [acc_full, acc_pca, acc_kbest]\n",
        "\n",
        "plt.figure(figsize=(8,5))\n",
        "bars = plt.bar(labels, accuracies, color=['blue', 'orange', 'green'])\n",
        "plt.title('Comparação de Acurácia')\n",
        "plt.ylabel('Acurácia')\n",
        "plt.ylim(0.5, 1.0)\n",
        "\n",
        "# Adiciona valores nos topos das barras\n",
        "for bar in bars:\n",
        "    yval = bar.get_height()\n",
        "    plt.text(bar.get_x() + bar.get_width()/2, yval + 0.01, f'{yval:.3f}',\n",
        "             ha='center', va='bottom')\n",
        "\n",
        "plt.grid(axis='y')\n",
        "plt.show()\n"
      ],
      "metadata": {
        "colab": {
          "base_uri": "https://localhost:8080/",
          "height": 468
        },
        "id": "c5eRqJLo1G_f",
        "outputId": "291372e8-1fce-4359-a000-999813f9bf56"
      },
      "execution_count": 32,
      "outputs": [
        {
          "output_type": "display_data",
          "data": {
            "text/plain": [
              "<Figure size 800x500 with 1 Axes>"
            ],
            "image/png": "[encoded data removed]"
          },
          "metadata": {}
        }
      ]
    },
    {
      "cell_type": "code",
      "source": [],
      "metadata": {
        "id": "PnmTCBqj1T9t"
      },
      "execution_count": null,
      "outputs": []
    }
  ]
}