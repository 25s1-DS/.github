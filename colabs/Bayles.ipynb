{
  "nbformat": 4,
  "nbformat_minor": 0,
  "metadata": {
    "colab": {
      "provenance": []
    },
    "kernelspec": {
      "name": "python3",
      "display_name": "Python 3"
    },
    "language_info": {
      "name": "python"
    }
  },
  "cells": [
    {
      "cell_type": "code",
      "source": [
        "import pandas as pd\n",
        "import numpy as np\n",
        "import re\n",
        "from collections import defaultdict\n",
        "\n",
        "# Exemplo de dataset de e-mails\n",
        "emails = [\n",
        "    (\"Oferta imperdível, clique aqui para ganhar dinheiro!\", \"spam\"),\n",
        "    (\"Desconto especial para você, compre agora!\", \"spam\"),\n",
        "    (\"Não perca essa oportunidade única!\", \"spam\"),\n",
        "    (\"Reunião agendada para amanhã às 14h\", \"ham\"),\n",
        "    (\"Segue em anexo o relatório do último mês\", \"ham\"),\n",
        "    (\"Confirmando nosso encontro no escritório\", \"ham\"),\n",
        "]\n",
        "\n",
        "# Criar DataFrame\n",
        "df = pd.DataFrame(emails, columns=[\"text\", \"label\"])\n"
      ],
      "metadata": {
        "id": "beWXFMORatTa"
      },
      "execution_count": 5,
      "outputs": []
    },
    {
      "cell_type": "code",
      "source": [
        "df"
      ],
      "metadata": {
        "colab": {
          "base_uri": "https://localhost:8080/",
          "height": 237
        },
        "id": "nAgXLYSrcEF7",
        "outputId": "fe81ec43-3a35-4b35-b75c-f8061b19d38e"
      },
      "execution_count": 6,
      "outputs": [
        {
          "output_type": "execute_result",
          "data": {
            "text/plain": [
              "                                                text label\n",
              "0  Oferta imperdível, clique aqui para ganhar din...  spam\n",
              "1         Desconto especial para você, compre agora!  spam\n",
              "2                 Não perca essa oportunidade única!  spam\n",
              "3                Reunião agendada para amanhã às 14h   ham\n",
              "4           Segue em anexo o relatório do último mês   ham\n",
              "5           Confirmando nosso encontro no escritório   ham"
            ],
            "text/html": [
              "\n",
              "  <div id=\"df-d59b6e22-3c82-4287-913c-3a72dff96852\" class=\"colab-df-container\">\n",
              "    <div>\n",
              "<style scoped>\n",
              "    .dataframe tbody tr th:only-of-type {\n",
              "        vertical-align: middle;\n",
              "    }\n",
              "\n",
              "    .dataframe tbody tr th {\n",
              "        vertical-align: top;\n",
              "    }\n",
              "\n",
              "    .dataframe thead th {\n",
              "        text-align: right;\n",
              "    }\n",
              "</style>\n",
              "<table border=\"1\" class=\"dataframe\">\n",
              "  <thead>\n",
              "    <tr style=\"text-align: right;\">\n",
              "      <th></th>\n",
              "      <th>text</th>\n",
              "      <th>label</th>\n",
              "    </tr>\n",
              "  </thead>\n",
              "  <tbody>\n",
              "    <tr>\n",
              "      <th>0</th>\n",
              "      <td>Oferta imperdível, clique aqui para ganhar din...</td>\n",
              "      <td>spam</td>\n",
              "    </tr>\n",
              "    <tr>\n",
              "      <th>1</th>\n",
              "      <td>Desconto especial para você, compre agora!</td>\n",
              "      <td>spam</td>\n",
              "    </tr>\n",
              "    <tr>\n",
              "      <th>2</th>\n",
              "      <td>Não perca essa oportunidade única!</td>\n",
              "      <td>spam</td>\n",
              "    </tr>\n",
              "    <tr>\n",
              "      <th>3</th>\n",
              "      <td>Reunião agendada para amanhã às 14h</td>\n",
              "      <td>ham</td>\n",
              "    </tr>\n",
              "    <tr>\n",
              "      <th>4</th>\n",
              "      <td>Segue em anexo o relatório do último mês</td>\n",
              "      <td>ham</td>\n",
              "    </tr>\n",
              "    <tr>\n",
              "      <th>5</th>\n",
              "      <td>Confirmando nosso encontro no escritório</td>\n",
              "      <td>ham</td>\n",
              "    </tr>\n",
              "  </tbody>\n",
              "</table>\n",
              "</div>\n",
              "    <div class=\"colab-df-buttons\">\n",
              "\n",
              "  <div class=\"colab-df-container\">\n",
              "    <button class=\"colab-df-convert\" onclick=\"convertToInteractive('df-d59b6e22-3c82-4287-913c-3a72dff96852')\"\n",
              "            title=\"Convert this dataframe to an interactive table.\"\n",
              "            style=\"display:none;\">\n",
              "\n",
              "  <svg xmlns=\"http://www.w3.org/2000/svg\" height=\"24px\" viewBox=\"0 -960 960 960\">\n",
              "    <path d=\"M120-120v-720h720v720H120Zm60-500h600v-160H180v160Zm220 220h160v-160H400v160Zm0 220h160v-160H400v160ZM180-400h160v-160H180v160Zm440 0h160v-160H620v160ZM180-180h160v-160H180v160Zm440 0h160v-160H620v160Z\"/>\n",
              "  </svg>\n",
              "    </button>\n",
              "\n",
              "  <style>\n",
              "    .colab-df-container {\n",
              "      display:flex;\n",
              "      gap: 12px;\n",
              "    }\n",
              "\n",
              "    .colab-df-convert {\n",
              "      background-color: #E8F0FE;\n",
              "      border: none;\n",
              "      border-radius: 50%;\n",
              "      cursor: pointer;\n",
              "      display: none;\n",
              "      fill: #1967D2;\n",
              "      height: 32px;\n",
              "      padding: 0 0 0 0;\n",
              "      width: 32px;\n",
              "    }\n",
              "\n",
              "    .colab-df-convert:hover {\n",
              "      background-color: #E2EBFA;\n",
              "      box-shadow: 0px 1px 2px rgba(60, 64, 67, 0.3), 0px 1px 3px 1px rgba(60, 64, 67, 0.15);\n",
              "      fill: #174EA6;\n",
              "    }\n",
              "\n",
              "    .colab-df-buttons div {\n",
              "      margin-bottom: 4px;\n",
              "    }\n",
              "\n",
              "    [theme=dark] .colab-df-convert {\n",
              "      background-color: #3B4455;\n",
              "      fill: #D2E3FC;\n",
              "    }\n",
              "\n",
              "    [theme=dark] .colab-df-convert:hover {\n",
              "      background-color: #434B5C;\n",
              "      box-shadow: 0px 1px 3px 1px rgba(0, 0, 0, 0.15);\n",
              "      filter: drop-shadow(0px 1px 2px rgba(0, 0, 0, 0.3));\n",
              "      fill: #FFFFFF;\n",
              "    }\n",
              "  </style>\n",
              "\n",
              "    <script>\n",
              "      const buttonEl =\n",
              "        document.querySelector('#df-d59b6e22-3c82-4287-913c-3a72dff96852 button.colab-df-convert');\n",
              "      buttonEl.style.display =\n",
              "        google.colab.kernel.accessAllowed ? 'block' : 'none';\n",
              "\n",
              "      async function convertToInteractive(key) {\n",
              "        const element = document.querySelector('#df-d59b6e22-3c82-4287-913c-3a72dff96852');\n",
              "        const dataTable =\n",
              "          await google.colab.kernel.invokeFunction('convertToInteractive',\n",
              "                                                    [key], {});\n",
              "        if (!dataTable) return;\n",
              "\n",
              "        const docLinkHtml = 'Like what you see? Visit the ' +\n",
              "          '<a target=\"_blank\" href=https://colab.research.google.com/notebooks/data_table.ipynb>data table notebook</a>'\n",
              "          + ' to learn more about interactive tables.';\n",
              "        element.innerHTML = '';\n",
              "        dataTable['output_type'] = 'display_data';\n",
              "        await google.colab.output.renderOutput(dataTable, element);\n",
              "        const docLink = document.createElement('div');\n",
              "        docLink.innerHTML = docLinkHtml;\n",
              "        element.appendChild(docLink);\n",
              "      }\n",
              "    </script>\n",
              "  </div>\n",
              "\n",
              "\n",
              "<div id=\"df-857ebc77-4193-41d4-8e8a-c38594426f57\">\n",
              "  <button class=\"colab-df-quickchart\" onclick=\"quickchart('df-857ebc77-4193-41d4-8e8a-c38594426f57')\"\n",
              "            title=\"Suggest charts\"\n",
              "            style=\"display:none;\">\n",
              "\n",
              "<svg xmlns=\"http://www.w3.org/2000/svg\" height=\"24px\"viewBox=\"0 0 24 24\"\n",
              "     width=\"24px\">\n",
              "    <g>\n",
              "        <path d=\"M19 3H5c-1.1 0-2 .9-2 2v14c0 1.1.9 2 2 2h14c1.1 0 2-.9 2-2V5c0-1.1-.9-2-2-2zM9 17H7v-7h2v7zm4 0h-2V7h2v10zm4 0h-2v-4h2v4z\"/>\n",
              "    </g>\n",
              "</svg>\n",
              "  </button>\n",
              "\n",
              "<style>\n",
              "  .colab-df-quickchart {\n",
              "      --bg-color: #E8F0FE;\n",
              "      --fill-color: #1967D2;\n",
              "      --hover-bg-color: #E2EBFA;\n",
              "      --hover-fill-color: #174EA6;\n",
              "      --disabled-fill-color: #AAA;\n",
              "      --disabled-bg-color: #DDD;\n",
              "  }\n",
              "\n",
              "  [theme=dark] .colab-df-quickchart {\n",
              "      --bg-color: #3B4455;\n",
              "      --fill-color: #D2E3FC;\n",
              "      --hover-bg-color: #434B5C;\n",
              "      --hover-fill-color: #FFFFFF;\n",
              "      --disabled-bg-color: #3B4455;\n",
              "      --disabled-fill-color: #666;\n",
              "  }\n",
              "\n",
              "  .colab-df-quickchart {\n",
              "    background-color: var(--bg-color);\n",
              "    border: none;\n",
              "    border-radius: 50%;\n",
              "    cursor: pointer;\n",
              "    display: none;\n",
              "    fill: var(--fill-color);\n",
              "    height: 32px;\n",
              "    padding: 0;\n",
              "    width: 32px;\n",
              "  }\n",
              "\n",
              "  .colab-df-quickchart:hover {\n",
              "    background-color: var(--hover-bg-color);\n",
              "    box-shadow: 0 1px 2px rgba(60, 64, 67, 0.3), 0 1px 3px 1px rgba(60, 64, 67, 0.15);\n",
              "    fill: var(--button-hover-fill-color);\n",
              "  }\n",
              "\n",
              "  .colab-df-quickchart-complete:disabled,\n",
              "  .colab-df-quickchart-complete:disabled:hover {\n",
              "    background-color: var(--disabled-bg-color);\n",
              "    fill: var(--disabled-fill-color);\n",
              "    box-shadow: none;\n",
              "  }\n",
              "\n",
              "  .colab-df-spinner {\n",
              "    border: 2px solid var(--fill-color);\n",
              "    border-color: transparent;\n",
              "    border-bottom-color: var(--fill-color);\n",
              "    animation:\n",
              "      spin 1s steps(1) infinite;\n",
              "  }\n",
              "\n",
              "  @keyframes spin {\n",
              "    0% {\n",
              "      border-color: transparent;\n",
              "      border-bottom-color: var(--fill-color);\n",
              "      border-left-color: var(--fill-color);\n",
              "    }\n",
              "    20% {\n",
              "      border-color: transparent;\n",
              "      border-left-color: var(--fill-color);\n",
              "      border-top-color: var(--fill-color);\n",
              "    }\n",
              "    30% {\n",
              "      border-color: transparent;\n",
              "      border-left-color: var(--fill-color);\n",
              "      border-top-color: var(--fill-color);\n",
              "      border-right-color: var(--fill-color);\n",
              "    }\n",
              "    40% {\n",
              "      border-color: transparent;\n",
              "      border-right-color: var(--fill-color);\n",
              "      border-top-color: var(--fill-color);\n",
              "    }\n",
              "    60% {\n",
              "      border-color: transparent;\n",
              "      border-right-color: var(--fill-color);\n",
              "    }\n",
              "    80% {\n",
              "      border-color: transparent;\n",
              "      border-right-color: var(--fill-color);\n",
              "      border-bottom-color: var(--fill-color);\n",
              "    }\n",
              "    90% {\n",
              "      border-color: transparent;\n",
              "      border-bottom-color: var(--fill-color);\n",
              "    }\n",
              "  }\n",
              "</style>\n",
              "\n",
              "  <script>\n",
              "    async function quickchart(key) {\n",
              "      const quickchartButtonEl =\n",
              "        document.querySelector('#' + key + ' button');\n",
              "      quickchartButtonEl.disabled = true;  // To prevent multiple clicks.\n",
              "      quickchartButtonEl.classList.add('colab-df-spinner');\n",
              "      try {\n",
              "        const charts = await google.colab.kernel.invokeFunction(\n",
              "            'suggestCharts', [key], {});\n",
              "      } catch (error) {\n",
              "        console.error('Error during call to suggestCharts:', error);\n",
              "      }\n",
              "      quickchartButtonEl.classList.remove('colab-df-spinner');\n",
              "      quickchartButtonEl.classList.add('colab-df-quickchart-complete');\n",
              "    }\n",
              "    (() => {\n",
              "      let quickchartButtonEl =\n",
              "        document.querySelector('#df-857ebc77-4193-41d4-8e8a-c38594426f57 button');\n",
              "      quickchartButtonEl.style.display =\n",
              "        google.colab.kernel.accessAllowed ? 'block' : 'none';\n",
              "    })();\n",
              "  </script>\n",
              "</div>\n",
              "\n",
              "  <div id=\"id_6abe0309-77ca-4475-b8fd-a3969753adfc\">\n",
              "    <style>\n",
              "      .colab-df-generate {\n",
              "        background-color: #E8F0FE;\n",
              "        border: none;\n",
              "        border-radius: 50%;\n",
              "        cursor: pointer;\n",
              "        display: none;\n",
              "        fill: #1967D2;\n",
              "        height: 32px;\n",
              "        padding: 0 0 0 0;\n",
              "        width: 32px;\n",
              "      }\n",
              "\n",
              "      .colab-df-generate:hover {\n",
              "        background-color: #E2EBFA;\n",
              "        box-shadow: 0px 1px 2px rgba(60, 64, 67, 0.3), 0px 1px 3px 1px rgba(60, 64, 67, 0.15);\n",
              "        fill: #174EA6;\n",
              "      }\n",
              "\n",
              "      [theme=dark] .colab-df-generate {\n",
              "        background-color: #3B4455;\n",
              "        fill: #D2E3FC;\n",
              "      }\n",
              "\n",
              "      [theme=dark] .colab-df-generate:hover {\n",
              "        background-color: #434B5C;\n",
              "        box-shadow: 0px 1px 3px 1px rgba(0, 0, 0, 0.15);\n",
              "        filter: drop-shadow(0px 1px 2px rgba(0, 0, 0, 0.3));\n",
              "        fill: #FFFFFF;\n",
              "      }\n",
              "    </style>\n",
              "    <button class=\"colab-df-generate\" onclick=\"generateWithVariable('df')\"\n",
              "            title=\"Generate code using this dataframe.\"\n",
              "            style=\"display:none;\">\n",
              "\n",
              "  <svg xmlns=\"http://www.w3.org/2000/svg\" height=\"24px\"viewBox=\"0 0 24 24\"\n",
              "       width=\"24px\">\n",
              "    <path d=\"M7,19H8.4L18.45,9,17,7.55,7,17.6ZM5,21V16.75L18.45,3.32a2,2,0,0,1,2.83,0l1.4,1.43a1.91,1.91,0,0,1,.58,1.4,1.91,1.91,0,0,1-.58,1.4L9.25,21ZM18.45,9,17,7.55Zm-12,3A5.31,5.31,0,0,0,4.9,8.1,5.31,5.31,0,0,0,1,6.5,5.31,5.31,0,0,0,4.9,4.9,5.31,5.31,0,0,0,6.5,1,5.31,5.31,0,0,0,8.1,4.9,5.31,5.31,0,0,0,12,6.5,5.46,5.46,0,0,0,6.5,12Z\"/>\n",
              "  </svg>\n",
              "    </button>\n",
              "    <script>\n",
              "      (() => {\n",
              "      const buttonEl =\n",
              "        document.querySelector('#id_6abe0309-77ca-4475-b8fd-a3969753adfc button.colab-df-generate');\n",
              "      buttonEl.style.display =\n",
              "        google.colab.kernel.accessAllowed ? 'block' : 'none';\n",
              "\n",
              "      buttonEl.onclick = () => {\n",
              "        google.colab.notebook.generateWithVariable('df');\n",
              "      }\n",
              "      })();\n",
              "    </script>\n",
              "  </div>\n",
              "\n",
              "    </div>\n",
              "  </div>\n"
            ],
            "application/vnd.google.colaboratory.intrinsic+json": {
              "type": "dataframe",
              "variable_name": "df",
              "summary": "{\n  \"name\": \"df\",\n  \"rows\": 6,\n  \"fields\": [\n    {\n      \"column\": \"text\",\n      \"properties\": {\n        \"dtype\": \"string\",\n        \"num_unique_values\": 6,\n        \"samples\": [\n          \"Oferta imperd\\u00edvel, clique aqui para ganhar dinheiro!\",\n          \"Desconto especial para voc\\u00ea, compre agora!\",\n          \"Confirmando nosso encontro no escrit\\u00f3rio\"\n        ],\n        \"semantic_type\": \"\",\n        \"description\": \"\"\n      }\n    },\n    {\n      \"column\": \"label\",\n      \"properties\": {\n        \"dtype\": \"category\",\n        \"num_unique_values\": 2,\n        \"samples\": [\n          \"ham\",\n          \"spam\"\n        ],\n        \"semantic_type\": \"\",\n        \"description\": \"\"\n      }\n    }\n  ]\n}"
            }
          },
          "metadata": {},
          "execution_count": 6
        }
      ]
    },
    {
      "cell_type": "code",
      "source": [
        "\n",
        "# Função para pré-processar o texto\n",
        "def preprocess(text):\n",
        "    text = text.lower()\n",
        "    text = re.sub(r'[^a-zA-Z\\s]', '', text)  # Remover caracteres especiais\n",
        "    return text.split()\n",
        "\n",
        "\n",
        "\n",
        "\n"
      ],
      "metadata": {
        "id": "gJZSLLvFb7mg"
      },
      "execution_count": 8,
      "outputs": []
    },
    {
      "cell_type": "code",
      "source": [
        "x = preprocess('Este é um teste de# Preprocessamento de email!!!!')"
      ],
      "metadata": {
        "id": "82In0zjncLRS"
      },
      "execution_count": 15,
      "outputs": []
    },
    {
      "cell_type": "code",
      "source": [
        "x"
      ],
      "metadata": {
        "colab": {
          "base_uri": "https://localhost:8080/"
        },
        "id": "jDK5ZQB-clOE",
        "outputId": "d564a2e8-1a53-40ba-d280-09bc48f01375"
      },
      "execution_count": 16,
      "outputs": [
        {
          "output_type": "execute_result",
          "data": {
            "text/plain": [
              "['este', 'um', 'teste', 'de', 'preprocessamento', 'de', 'email']"
            ]
          },
          "metadata": {},
          "execution_count": 16
        }
      ]
    },
    {
      "cell_type": "code",
      "source": [
        "# Função para calcular a probabilidade de um e-mail ser spam\n",
        "def predict(email):\n",
        "    words = preprocess(email)\n",
        "\n",
        "    print(words)\n",
        "\n",
        "    spam_prob = np.log(total_emails['spam'] / sum(total_emails.values()))\n",
        "    print('spam_prob inicial', spam_prob)\n",
        "    ham_prob = np.log(total_emails['ham'] / sum(total_emails.values()))\n",
        "    print('ham_prob inicial',ham_prob)\n",
        "\n",
        "    for word in words:\n",
        "        spam_prob += np.log((word_counts['spam'][word] + 1) / (total_words['spam'] + len(word_counts['spam'])))\n",
        "        ham_prob += np.log((word_counts['ham'][word] + 1) / (total_words['ham'] + len(word_counts['ham'])))\n",
        "        print('spam_prob', spam_prob, 'ham_prob', ham_prob)\n",
        "\n",
        "    return 'spam' if spam_prob > ham_prob else 'ham'"
      ],
      "metadata": {
        "id": "5KLdwd5Rb-6b"
      },
      "execution_count": 39,
      "outputs": []
    },
    {
      "cell_type": "code",
      "source": [
        "emails"
      ],
      "metadata": {
        "colab": {
          "base_uri": "https://localhost:8080/"
        },
        "id": "3ITR19fJeW9z",
        "outputId": "ff5abfee-a72a-4e6d-93a4-15f0aba32fc9"
      },
      "execution_count": 18,
      "outputs": [
        {
          "output_type": "execute_result",
          "data": {
            "text/plain": [
              "[('Oferta imperdível, clique aqui para ganhar dinheiro!', 'spam'),\n",
              " ('Desconto especial para você, compre agora!', 'spam'),\n",
              " ('Não perca essa oportunidade única!', 'spam'),\n",
              " ('Reunião agendada para amanhã às 14h', 'ham'),\n",
              " ('Segue em anexo o relatório do último mês', 'ham'),\n",
              " ('Confirmando nosso encontro no escritório', 'ham')]"
            ]
          },
          "metadata": {},
          "execution_count": 18
        }
      ]
    },
    {
      "cell_type": "code",
      "source": [
        "# Construir vocabulário e calcular probabilidades\n",
        "word_counts = {'spam': defaultdict(int), 'ham': defaultdict(int)}\n",
        "total_words = {'spam': 0, 'ham': 0}\n",
        "total_emails = {'spam': 0, 'ham': 0}\n"
      ],
      "metadata": {
        "id": "veXCiXrhedq0"
      },
      "execution_count": 25,
      "outputs": []
    },
    {
      "cell_type": "code",
      "source": [
        "emails[0]"
      ],
      "metadata": {
        "colab": {
          "base_uri": "https://localhost:8080/"
        },
        "id": "8P_sLHnIef9l",
        "outputId": "6cbd2757-8438-4033-b603-591fe19696eb"
      },
      "execution_count": 26,
      "outputs": [
        {
          "output_type": "execute_result",
          "data": {
            "text/plain": [
              "('Oferta imperdível, clique aqui para ganhar dinheiro!', 'spam')"
            ]
          },
          "metadata": {},
          "execution_count": 26
        }
      ]
    },
    {
      "cell_type": "code",
      "source": [
        "emails2 = []\n",
        "\n",
        "emails2.append(emails[5])\n",
        "\n",
        "# Treinamento do modelo\n",
        "for text,label in emails2:\n",
        "    words = preprocess(text)\n",
        "\n",
        "    total_emails[label] += 1\n",
        "    for word in words:\n",
        "        word_counts[label][word] += 1\n",
        "        total_words[label] += 1\n",
        "\n",
        "\n"
      ],
      "metadata": {
        "colab": {
          "base_uri": "https://localhost:8080/",
          "height": 211
        },
        "id": "B6OBh8kgb9Tn",
        "outputId": "d84bd129-f5a7-4240-9f17-1e66b71d111c"
      },
      "execution_count": 37,
      "outputs": [
        {
          "output_type": "error",
          "ename": "IndexError",
          "evalue": "list index out of range",
          "traceback": [
            "\u001b[0;31m---------------------------------------------------------------------------\u001b[0m",
            "\u001b[0;31mIndexError\u001b[0m                                Traceback (most recent call last)",
            "\u001b[0;32m<ipython-input-37-1f762046c343>\u001b[0m in \u001b[0;36m<cell line: 0>\u001b[0;34m()\u001b[0m\n\u001b[1;32m      1\u001b[0m \u001b[0memails2\u001b[0m \u001b[0;34m=\u001b[0m \u001b[0;34m[\u001b[0m\u001b[0;34m]\u001b[0m\u001b[0;34m\u001b[0m\u001b[0;34m\u001b[0m\u001b[0m\n\u001b[1;32m      2\u001b[0m \u001b[0;34m\u001b[0m\u001b[0m\n\u001b[0;32m----> 3\u001b[0;31m \u001b[0memails2\u001b[0m\u001b[0;34m.\u001b[0m\u001b[0mappend\u001b[0m\u001b[0;34m(\u001b[0m\u001b[0memails\u001b[0m\u001b[0;34m[\u001b[0m\u001b[0;36m6\u001b[0m\u001b[0;34m]\u001b[0m\u001b[0;34m)\u001b[0m\u001b[0;34m\u001b[0m\u001b[0;34m\u001b[0m\u001b[0m\n\u001b[0m\u001b[1;32m      4\u001b[0m \u001b[0;34m\u001b[0m\u001b[0m\n\u001b[1;32m      5\u001b[0m \u001b[0;31m# Treinamento do modelo\u001b[0m\u001b[0;34m\u001b[0m\u001b[0;34m\u001b[0m\u001b[0m\n",
            "\u001b[0;31mIndexError\u001b[0m: list index out of range"
          ]
        }
      ]
    },
    {
      "cell_type": "code",
      "source": [
        "print(total_emails, word_counts, total_words)"
      ],
      "metadata": {
        "colab": {
          "base_uri": "https://localhost:8080/"
        },
        "id": "VgCn-cCKesEr",
        "outputId": "05f3fe35-7310-4da4-f6c9-b56fc888001e"
      },
      "execution_count": 38,
      "outputs": [
        {
          "output_type": "stream",
          "name": "stdout",
          "text": [
            "{'spam': 4, 'ham': 3} {'spam': defaultdict(<class 'int'>, {'oferta': 1, 'imperdvel': 1, 'clique': 1, 'aqui': 1, 'para': 2, 'ganhar': 1, 'dinheiro': 1, 'desconto': 1, 'especial': 1, 'voc': 1, 'compre': 1, 'agora': 1, 'no': 2, 'perca': 2, 'essa': 2, 'oportunidade': 2, 'nica': 2}), 'ham': defaultdict(<class 'int'>, {'reunio': 1, 'agendada': 1, 'para': 1, 'amanh': 1, 's': 1, 'h': 1, 'segue': 1, 'em': 1, 'anexo': 1, 'o': 1, 'relatrio': 1, 'do': 1, 'ltimo': 1, 'ms': 1, 'confirmando': 1, 'nosso': 1, 'encontro': 1, 'no': 1, 'escritrio': 1})} {'spam': 23, 'ham': 19}\n"
          ]
        }
      ]
    },
    {
      "cell_type": "code",
      "source": [
        "# Testando um novo e-mail\n",
        "teste_email = \"Ganhe dinheiro rápido com essa oferta exclusiva!\"\n",
        "predicao = predict(teste_email)\n",
        "print(f\"O e-mail '{teste_email}' foi classificado como: {predicao}\")"
      ],
      "metadata": {
        "colab": {
          "base_uri": "https://localhost:8080/"
        },
        "id": "n5wipYhcelf0",
        "outputId": "3118f61e-d406-4369-d995-6565885625ef"
      },
      "execution_count": 40,
      "outputs": [
        {
          "output_type": "stream",
          "name": "stdout",
          "text": [
            "['ganhe', 'dinheiro', 'rpido', 'com', 'essa', 'oferta', 'exclusiva']\n",
            "spam_prob inicial -0.5596157879354228\n",
            "ham_prob inicial -0.8472978603872037\n",
            "spam_prob -4.273187854639731 ham_prob -4.51085950651685\n",
            "spam_prob -7.293612740784093 ham_prob -8.199738960630786\n",
            "spam_prob -11.031282359067461 ham_prob -11.913311027335094\n",
            "spam_prob -14.792482474761023 ham_prob -15.650980645618462\n",
            "spam_prob -17.455070301786478 ham_prob -19.412180761312026\n",
            "spam_prob -20.523123236920096 ham_prob -23.196370395230286\n",
            "spam_prob -24.307312870838356 ham_prob -27.003032885000607\n",
            "O e-mail 'Ganhe dinheiro rápido com essa oferta exclusiva!' foi classificado como: spam\n"
          ]
        }
      ]
    },
    {
      "cell_type": "code",
      "source": [
        "# Testando um novo e-mail\n",
        "teste_email = \"Nossa reuniao tratara de assuntos realmente sérios que discutimos em nosso ultimo encontro\"\n",
        "predicao = predict(teste_email)\n",
        "print(f\"O e-mail '{teste_email}' foi classificado como: {predicao}\")"
      ],
      "metadata": {
        "colab": {
          "base_uri": "https://localhost:8080/"
        },
        "id": "1QHR6fHPhWAl",
        "outputId": "02d354b0-304f-4817-f0ab-f56a78e6bd1a"
      },
      "execution_count": 41,
      "outputs": [
        {
          "output_type": "stream",
          "name": "stdout",
          "text": [
            "['nossa', 'reuniao', 'tratara', 'de', 'assuntos', 'realmente', 'srios', 'que', 'discutimos', 'em', 'nosso', 'ultimo', 'encontro']\n",
            "spam_prob inicial -0.5596157879354228\n",
            "ham_prob inicial -0.8472978603872037\n",
            "spam_prob -4.366278277705742 ham_prob -4.6759392568762985\n",
            "spam_prob -8.194919674194837 ham_prob -8.526086858586357\n",
            "spam_prob -12.045067275904895 ham_prob -12.397287869494248\n",
            "spam_prob -15.916268286812786 ham_prob -16.289108167604873\n",
            "spam_prob -19.80808858492341 ham_prob -20.20113117303302\n",
            "spam_prob -23.720111590351557 ham_prob -24.132956805757345\n",
            "spam_prob -27.651937223075883 ham_prob -28.084200524338772\n",
            "spam_prob -31.60318094165731 ham_prob -32.05449243789089\n",
            "spam_prob -35.57347285520943 ham_prob -36.04347648445517\n",
            "spam_prob -39.56245690177371 ham_prob -39.3393133504595\n",
            "spam_prob -43.569790087006176 ham_prob -42.63515021646383\n",
            "spam_prob -47.595141777741325 ham_prob -46.642483401696296\n",
            "spam_prob -51.638193045575875 ham_prob -49.956669406368825\n",
            "O e-mail 'Nossa reuniao tratara de assuntos realmente sérios que discutimos em nosso ultimo encontro' foi classificado como: ham\n"
          ]
        }
      ]
    },
    {
      "cell_type": "code",
      "source": [],
      "metadata": {
        "id": "mgf-ZEJEh7s8"
      },
      "execution_count": null,
      "outputs": []
    }
  ]
}